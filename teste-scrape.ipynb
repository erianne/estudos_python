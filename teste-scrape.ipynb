{
 "cells": [
  {
   "cell_type": "markdown",
   "metadata": {},
   "source": [
    "# WEB SCRAPING DA TABELA DE ALIMENTOS \n",
    "\n",
    "    Usando os pacotes __requests__ e __scrapy__. "
   ]
  },
  {
   "cell_type": "code",
   "execution_count": 1,
   "metadata": {},
   "outputs": [],
   "source": [
    "from scrapy import Selector\n",
    "import requests"
   ]
  },
  {
   "cell_type": "code",
   "execution_count": 2,
   "metadata": {},
   "outputs": [],
   "source": [
    "paginas = []\n",
    "url = \"http://www.tbca.net.br/base-dados/\"\n",
    "\n",
    "#construindo as 53 urls da tabela para serem scrapadas\n",
    "for i in range(1,54):\n",
    "    pag = url + \"composicao_alimentos.php?pagina=\" + str(i)\n",
    "    paginas.append(pag)\n",
    "#paginas\n",
    "\n"
   ]
  },
  {
   "cell_type": "code",
   "execution_count": 3,
   "metadata": {},
   "outputs": [],
   "source": [
    "links_seguir = []\n",
    "for pagina in paginas:\n",
    "    x = requests.get(pagina) # usando o pacote requests para pegar as urls RESPONSE\n",
    "    html = x.text # com requests tranforma o html da pagina em string\n",
    "    sel = Selector(text = html) #com scrapy usa a funcao Selector para receber o html em string\n",
    "    urls_prods = sel.xpath('//tr/td[1]/a/@href').extract() # extrai o text da tag passada na xpath e faz uma lista\n",
    "    links_seguir = links_seguir + urls_prods # concatena a lista de codigos em cada iteracao\n",
    "\n",
    "links_completos = []\n",
    "for link in  links_seguir:\n",
    "    pags = url + link # link eh do tipo /int_composicao_alimentos.php?cod_produto=C0573F\n",
    "    links_completos.append(pags)\n",
    "\n",
    "\n",
    "\n",
    "    \n",
    "#codigo pesado, gera uma lista de 5203 codigos"
   ]
  },
  {
   "cell_type": "code",
   "execution_count": null,
   "metadata": {},
   "outputs": [],
   "source": [
    "#buscar cada varialvel nos links\n",
    "'''\n",
    "for produto in links_completos:\n",
    "    y = requests.get(produto)\n",
    "    html2 = y.text\n",
    "    sel2 = Selector(text = html2)\n",
    "    codigo = sel2.css('h5#overview::text').extract()\n",
    "    codigo = sel2.xpath('//h5/text()').extract()\n",
    "    nome = sel.xpath('')\n",
    "    calorias = \n",
    "    carboidratos = \n",
    "    proteinas = \n",
    "    gorduras = \n",
    "    fibra = \n",
    "    sodio = \n",
    "    vitaminaD =\n",
    "    vitaminaE = \n",
    "    vitaminaA = \n",
    "    vitaminaB6 = \n",
    "    vitaminaB12 = \n",
    "    vitaminaC = \n",
    "    acucar = \n",
    "    '''\n",
    "links_completos"
   ]
  },
  {
   "cell_type": "code",
   "execution_count": 15,
   "metadata": {},
   "outputs": [],
   "source": [
    "kcal = []\n",
    "for i in links_completos:\n",
    "    yy = requests.get(i)\n",
    "    httt = yy.text\n",
    "    sell = Selector(text = httt)\n",
    "    calorias = sell.xpath('//tbody/tr[1]/td[3]/text()').extract()\n",
    "    kcal = kcal + calorias\n",
    "    #kcal.append(calorias)"
   ]
  },
  {
   "cell_type": "code",
   "execution_count": null,
   "metadata": {},
   "outputs": [],
   "source": [
    "kcal"
   ]
  },
  {
   "cell_type": "code",
   "execution_count": null,
   "metadata": {},
   "outputs": [],
   "source": []
  },
  {
   "cell_type": "code",
   "execution_count": null,
   "metadata": {},
   "outputs": [],
   "source": []
  }
 ],
 "metadata": {
  "kernelspec": {
   "display_name": "Python 3",
   "language": "python",
   "name": "python3"
  },
  "language_info": {
   "codemirror_mode": {
    "name": "ipython",
    "version": 3
   },
   "file_extension": ".py",
   "mimetype": "text/x-python",
   "name": "python",
   "nbconvert_exporter": "python",
   "pygments_lexer": "ipython3",
   "version": "3.8.3"
  }
 },
 "nbformat": 4,
 "nbformat_minor": 4
}
