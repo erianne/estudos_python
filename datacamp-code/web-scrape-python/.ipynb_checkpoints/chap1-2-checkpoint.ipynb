{
 "cells": [
  {
   "cell_type": "markdown",
   "metadata": {},
   "source": [
    "# Curso de Web Scrape por Thomas Laetsch\n",
    "\n",
    "CAPITULO 1: Explica o básico de HTML (tags, id e class)e uma introdução a XPath."
   ]
  },
  {
   "cell_type": "markdown",
   "metadata": {},
   "source": [
    "XPath é uma forma de indicar um endereço para uma tag no html seguindo a hierarquia das tags.\n",
    "\n",
    "Ex: \n",
    "xpath = \"html/body/div[2]\" para indicar a segunda <div> dentro da tag <body>.\n",
    "\n",
    "Também é possível usar duas barras \"//table\" para percorrer todos os elementos dentro da tag <table>."
   ]
  },
  {
   "cell_type": "code",
   "execution_count": 1,
   "metadata": {},
   "outputs": [],
   "source": [
    "# Exemplo para seguir todas as tags <span> e buscar as que recebem a classe \"span-class\"\n",
    "xpath = '//span[@class=\"span-class\"]'"
   ]
  },
  {
   "cell_type": "code",
   "execution_count": null,
   "metadata": {},
   "outputs": [],
   "source": []
  }
 ],
 "metadata": {
  "kernelspec": {
   "display_name": "Python 3",
   "language": "python",
   "name": "python3"
  },
  "language_info": {
   "codemirror_mode": {
    "name": "ipython",
    "version": 3
   },
   "file_extension": ".py",
   "mimetype": "text/x-python",
   "name": "python",
   "nbconvert_exporter": "python",
   "pygments_lexer": "ipython3",
   "version": "3.8.5"
  }
 },
 "nbformat": 4,
 "nbformat_minor": 4
}
